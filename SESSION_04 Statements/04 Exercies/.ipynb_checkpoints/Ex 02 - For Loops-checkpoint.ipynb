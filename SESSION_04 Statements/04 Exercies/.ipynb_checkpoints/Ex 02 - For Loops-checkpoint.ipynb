{
 "cells": [
  {
   "cell_type": "markdown",
   "metadata": {},
   "source": [
    "# for Loops\n",
    "\n",
    "## Exercises\n",
    "\n",
    "General format for a **for** loop in Python:\n",
    "\n",
    "    for item in object:\n",
    "        statements to do stuff\n",
    "    "
   ]
  },
  {
   "cell_type": "markdown",
   "metadata": {},
   "source": [
    "1. Create a list from 1 to 6. Loop over the list and print every value"
   ]
  },
  {
   "cell_type": "code",
   "execution_count": 1,
   "metadata": {},
   "outputs": [
    {
     "name": "stdout",
     "output_type": "stream",
     "text": [
      "0\n",
      "1\n",
      "2\n",
      "3\n",
      "4\n",
      "5\n"
     ]
    }
   ],
   "source": [
    "# list\n",
    "\n",
    "\n",
    "# loop\n",
    "for el in range(6):\n",
    "    print(el)"
   ]
  },
  {
   "cell_type": "markdown",
   "metadata": {},
   "source": [
    "2. Use the list you have created at point 1, loop over it and print the squared value of every element"
   ]
  },
  {
   "cell_type": "code",
   "execution_count": 2,
   "metadata": {},
   "outputs": [
    {
     "name": "stdout",
     "output_type": "stream",
     "text": [
      "0\n",
      "1\n",
      "4\n",
      "9\n",
      "16\n",
      "25\n"
     ]
    }
   ],
   "source": [
    "for el in range(6):\n",
    "    print(el**2)"
   ]
  },
  {
   "cell_type": "markdown",
   "metadata": {},
   "source": [
    "3. Create a list of 4 strings, loop over the list and print the string together with his length.  \n",
    " * E.g: *string:length*\n",
    " \n",
    "**Mandatory:** One string length must be = 5 "
   ]
  },
  {
   "cell_type": "code",
   "execution_count": 6,
   "metadata": {},
   "outputs": [
    {
     "name": "stdout",
     "output_type": "stream",
     "text": [
      "mom has 3 letters\n",
      "daddy has 5 letters\n",
      "son has 3 letters\n",
      "daughter has 8 letters\n"
     ]
    }
   ],
   "source": [
    "# list of strings\n",
    "family = [\"mom\", \"daddy\", \"son\", \"daughter\"]\n",
    "\n",
    "# loop\n",
    "for p in family:\n",
    "    print(\"{} has {} letters\".format(p, len(p)))"
   ]
  },
  {
   "cell_type": "markdown",
   "metadata": {},
   "source": [
    "3. Use the list you have created at point 3. Loop over it and print whether the string is >5, <5 or equal to 5."
   ]
  },
  {
   "cell_type": "code",
   "execution_count": 7,
   "metadata": {},
   "outputs": [
    {
     "name": "stdout",
     "output_type": "stream",
     "text": [
      "mom has less than 5 letters\n",
      "daddy has exactly 5 letters\n",
      "son has less than 5 letters\n",
      "daughter has more than 5 letters\n"
     ]
    }
   ],
   "source": [
    "for p in family:\n",
    "    if len(p) > 5:\n",
    "        print(\"{} has more than 5 letters\".format(p))\n",
    "    elif len(p) < 5:\n",
    "        print(\"{} has less than 5 letters\".format(p))\n",
    "    else:\n",
    "        print(\"{} has exactly 5 letters\".format(p))"
   ]
  },
  {
   "cell_type": "markdown",
   "metadata": {},
   "source": [
    "## Iterating by sequence index\n",
    "\n",
    "4. Use the following list. Loop over it and print every element using the \"indexing\" method. The output should be:\n",
    " * *The animal is: animal name*"
   ]
  },
  {
   "cell_type": "code",
   "execution_count": 8,
   "metadata": {},
   "outputs": [
    {
     "name": "stdout",
     "output_type": "stream",
     "text": [
      "The animal is: cat\n",
      "The animal is: dog\n",
      "The animal is: cow\n",
      "The animal is: horse\n",
      "The animal is: goat\n"
     ]
    }
   ],
   "source": [
    "animals = ['cat', 'dog',  'cow', 'horse','goat']\n",
    "\n",
    "# loop\n",
    "for animal in animals:\n",
    "    print(\"The animal is: \" + animal)"
   ]
  },
  {
   "cell_type": "markdown",
   "metadata": {},
   "source": [
    "\n",
    "### Modulo\n",
    "The modulo allows us to get the remainder in a division and uses the % symbol.\n",
    "\n",
    "5. Craete a list in range from 1 to 12, loop over it and print out whether a number is equal or odd."
   ]
  },
  {
   "cell_type": "code",
   "execution_count": 10,
   "metadata": {},
   "outputs": [
    {
     "name": "stdout",
     "output_type": "stream",
     "text": [
      "the number is odd\n",
      "the number is even\n",
      "the number is odd\n",
      "the number is even\n",
      "the number is odd\n",
      "the number is even\n",
      "the number is odd\n",
      "the number is even\n",
      "the number is odd\n",
      "the number is even\n",
      "the number is odd\n"
     ]
    }
   ],
   "source": [
    "# list\n",
    "the_list = range(1,12)\n",
    "\n",
    "# loop\n",
    "for el in the_list:\n",
    "    if el%2 == 0:\n",
    "        print(\"the number is even\")\n",
    "    else:\n",
    "        print(\"the number is odd\")"
   ]
  },
  {
   "cell_type": "markdown",
   "metadata": {},
   "source": [
    "6. Use the list below, loop over it and print out the sum of every number. Remember, use a counter outside the loop."
   ]
  },
  {
   "cell_type": "code",
   "execution_count": 22,
   "metadata": {},
   "outputs": [
    {
     "name": "stdout",
     "output_type": "stream",
     "text": [
      "added 1 element, count is 10\n",
      "added 2 elements, count is 30\n",
      "added 3 elements, count is 60\n",
      "added 4 elements, count is 100\n",
      "added 5 elements, count is 150\n"
     ]
    }
   ],
   "source": [
    "# list\n",
    "w = [10,20,30,40,50]\n",
    "\n",
    "# counter\n",
    "count = 0\n",
    "amt = 0\n",
    "\n",
    "# loop\n",
    "for i in w:\n",
    "    amt += 1\n",
    "    count += i\n",
    "    print(\"added {} element{}, count is {}\".format(amt, '' if amt==1 else 's', count))\n"
   ]
  },
  {
   "cell_type": "code",
   "execution_count": 24,
   "metadata": {},
   "outputs": [
    {
     "data": {
      "text/plain": [
       "3"
      ]
     },
     "execution_count": 24,
     "metadata": {},
     "output_type": "execute_result"
    }
   ],
   "source": [
    "3 if 5>3 else 'no'"
   ]
  },
  {
   "cell_type": "markdown",
   "metadata": {},
   "source": [
    "7. Use the two lists below, loop throug both of them and print out whether the sum of the couple of variable is odd or equal."
   ]
  },
  {
   "cell_type": "code",
   "execution_count": 31,
   "metadata": {},
   "outputs": [
    {
     "name": "stdout",
     "output_type": "stream",
     "text": [
      "1 plus 1 results in 2 which is an even number\n",
      "1 plus 2 results in 3 which is an odd number\n",
      "1 plus 3 results in 4 which is an even number\n",
      "1 plus 4 results in 5 which is an odd number\n",
      "2 plus 1 results in 3 which is an odd number\n",
      "2 plus 2 results in 4 which is an even number\n",
      "2 plus 3 results in 5 which is an odd number\n",
      "2 plus 4 results in 6 which is an even number\n",
      "3 plus 1 results in 4 which is an even number\n",
      "3 plus 2 results in 5 which is an odd number\n",
      "3 plus 3 results in 6 which is an even number\n",
      "3 plus 4 results in 7 which is an odd number\n",
      "4 plus 1 results in 5 which is an odd number\n",
      "4 plus 2 results in 6 which is an even number\n",
      "4 plus 3 results in 7 which is an odd number\n",
      "4 plus 4 results in 8 which is an even number\n"
     ]
    }
   ],
   "source": [
    "# lists\n",
    "w = [1,2,3,4]\n",
    "z = [1,2,3,4]\n",
    "\n",
    "# loops\n",
    "for i in w:\n",
    "    for j in z:\n",
    "        print(\"{} plus {} results in {} which is an {} number\".format(i,j,i+j,'even' if (i+j)%2 == 0 else 'odd'))\n",
    "\n",
    "\n",
    "        "
   ]
  },
  {
   "cell_type": "markdown",
   "metadata": {},
   "source": [
    "8. Use the list of tuple below, loop over it and print every single tuple."
   ]
  },
  {
   "cell_type": "code",
   "execution_count": 32,
   "metadata": {},
   "outputs": [
    {
     "name": "stdout",
     "output_type": "stream",
     "text": [
      "(5, 4)\n",
      "(4, 7)\n",
      "(8, 10)\n"
     ]
    }
   ],
   "source": [
    "# tuple list\n",
    "t_list = [(5,4),(4,7),(8,10)]\n",
    "\n",
    "# loop\n",
    "for t in t_list:\n",
    "    print(t)\n"
   ]
  },
  {
   "cell_type": "markdown",
   "metadata": {},
   "source": [
    "9. Loop over the list below and print the sum of the **first + second + third** element of every tuple. **Hint:** Tuple unpacking"
   ]
  },
  {
   "cell_type": "code",
   "execution_count": 33,
   "metadata": {},
   "outputs": [
    {
     "name": "stdout",
     "output_type": "stream",
     "text": [
      "6\n",
      "15\n",
      "24\n"
     ]
    }
   ],
   "source": [
    "# tuple list\n",
    "new_list = [(1,2,3),(4,5,6),(7,8,9)]\n",
    "\n",
    "# loop\n",
    "for a,b,c in new_list:\n",
    "    print(a+b+c)"
   ]
  },
  {
   "cell_type": "markdown",
   "metadata": {},
   "source": [
    "10. Loop over the dictionary below and print both key and value "
   ]
  },
  {
   "cell_type": "code",
   "execution_count": 38,
   "metadata": {},
   "outputs": [],
   "source": [
    "dz = {'key1':88,'key2':23,'key3':72, 'key4':66}"
   ]
  },
  {
   "cell_type": "code",
   "execution_count": 39,
   "metadata": {},
   "outputs": [
    {
     "name": "stdout",
     "output_type": "stream",
     "text": [
      "key1 88\n",
      "key2 23\n",
      "key3 72\n",
      "key4 66\n"
     ]
    }
   ],
   "source": [
    "# dict loop\n",
    "for a, b in dz.items():\n",
    "    print(a,b)"
   ]
  },
  {
   "cell_type": "markdown",
   "metadata": {},
   "source": [
    "11. Loop the **dz** dictionary and print out only the values."
   ]
  },
  {
   "cell_type": "code",
   "execution_count": 40,
   "metadata": {},
   "outputs": [
    {
     "name": "stdout",
     "output_type": "stream",
     "text": [
      "88\n",
      "23\n",
      "72\n",
      "66\n"
     ]
    }
   ],
   "source": [
    "# loop\n",
    "for a in dz.values():\n",
    "    print(a)"
   ]
  },
  {
   "cell_type": "markdown",
   "metadata": {},
   "source": [
    "11. Use the **dz** dictionary and the **t_list**. Loop throug both of them and print out the sum of every value of the dictionary with the first element of the tuple."
   ]
  },
  {
   "cell_type": "code",
   "execution_count": 16,
   "metadata": {},
   "outputs": [],
   "source": [
    "dz = {'key1':88,'key2':23,'key3':72, 'key4':66}\n",
    "t_list = [(5,4),(4,7),(8,10)]"
   ]
  },
  {
   "cell_type": "code",
   "execution_count": 44,
   "metadata": {},
   "outputs": [
    {
     "name": "stdout",
     "output_type": "stream",
     "text": [
      "93 92 96 \n",
      "28 27 31 \n",
      "77 76 80 \n",
      "71 70 74 \n"
     ]
    }
   ],
   "source": [
    "# loop\n",
    "for el in dz.values():\n",
    "    for a,b in t_list:\n",
    "        print(el+a,end=' ')\n",
    "    print()"
   ]
  },
  {
   "cell_type": "markdown",
   "metadata": {},
   "source": [
    "# Congratulation! You did a nice work!"
   ]
  },
  {
   "cell_type": "code",
   "execution_count": null,
   "metadata": {},
   "outputs": [],
   "source": []
  }
 ],
 "metadata": {
  "kernelspec": {
   "display_name": "Python 3",
   "language": "python",
   "name": "python3"
  },
  "language_info": {
   "codemirror_mode": {
    "name": "ipython",
    "version": 3
   },
   "file_extension": ".py",
   "mimetype": "text/x-python",
   "name": "python",
   "nbconvert_exporter": "python",
   "pygments_lexer": "ipython3",
   "version": "3.7.1"
  }
 },
 "nbformat": 4,
 "nbformat_minor": 1
}
