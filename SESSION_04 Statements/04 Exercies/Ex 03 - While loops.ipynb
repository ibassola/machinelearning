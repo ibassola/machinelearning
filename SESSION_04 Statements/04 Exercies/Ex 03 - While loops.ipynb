{
 "cells": [
  {
   "cell_type": "markdown",
   "metadata": {
    "collapsed": true
   },
   "source": [
    "# while loops\n",
    "\n",
    "## Exercises\n",
    "Keep in mind the general format of a while loop:\n",
    "\n",
    "    while test:\n",
    "        code statement\n",
    "    else:\n",
    "        final code statements "
   ]
  },
  {
   "cell_type": "markdown",
   "metadata": {},
   "source": [
    "1. Write a simple while loop that prints all numbers from 0 to 8. The loop must stop when the condition == 8. When you print out the results try to use \"string formatting\"."
   ]
  },
  {
   "cell_type": "code",
   "execution_count": 8,
   "metadata": {},
   "outputs": [
    {
     "name": "stdout",
     "output_type": "stream",
     "text": [
      "0\n",
      "1\n",
      "2\n",
      "3\n",
      "4\n",
      "5\n",
      "6\n",
      "7\n",
      "8\n"
     ]
    }
   ],
   "source": [
    "# counter\n",
    "cnt = 0\n",
    "\n",
    "# while loop\n",
    "while cnt < 9:\n",
    "    print(cnt)\n",
    "    cnt+=1\n"
   ]
  },
  {
   "cell_type": "markdown",
   "metadata": {},
   "source": [
    "2. Write a python while loop that prints all the numbers incremented by two unit. The sequence should be 2,4,6,8,10."
   ]
  },
  {
   "cell_type": "code",
   "execution_count": 12,
   "metadata": {},
   "outputs": [
    {
     "name": "stdout",
     "output_type": "stream",
     "text": [
      "0\n",
      "2\n",
      "4\n",
      "6\n",
      "8\n",
      "10\n"
     ]
    }
   ],
   "source": [
    "# counter\n",
    "cnt = 0\n",
    "\n",
    "# while loop\n",
    "while cnt < 11:\n",
    "    print(cnt)\n",
    "    cnt+=2"
   ]
  },
  {
   "cell_type": "markdown",
   "metadata": {},
   "source": [
    "3. Write a while loop that prints out all even numbers from 77 to 103. Save all the odd numbers into a list, print the list at the end."
   ]
  },
  {
   "cell_type": "code",
   "execution_count": 16,
   "metadata": {},
   "outputs": [
    {
     "name": "stdout",
     "output_type": "stream",
     "text": [
      "78 is an even number\n",
      "80 is an even number\n",
      "82 is an even number\n",
      "84 is an even number\n",
      "86 is an even number\n",
      "88 is an even number\n",
      "90 is an even number\n",
      "92 is an even number\n",
      "94 is an even number\n",
      "96 is an even number\n",
      "98 is an even number\n",
      "100 is an even number\n",
      "102 is an even number\n",
      "these are all odd numbers [77, 79, 81, 83, 85, 87, 89, 91, 93, 95, 97, 99, 101, 103]\n"
     ]
    }
   ],
   "source": [
    "# list\n",
    "odds = []\n",
    "\n",
    "# counter\n",
    "count = 77\n",
    "\n",
    "# while loop\n",
    "while count < 104:\n",
    "    if count%2 == 0:\n",
    "        print(\"{} is an even number\".format(count))\n",
    "    else:\n",
    "        odds.append(count)\n",
    "    count += 1\n",
    "else:\n",
    "    print(\"these are all odd numbers\", odds)\n",
    "\n",
    "\n",
    "# print list\n"
   ]
  },
  {
   "cell_type": "markdown",
   "metadata": {},
   "source": [
    "4. Write a while loop that prints out all numbers **NOT** divisible by 2 and 10 at the same time in the range from 77 to 103. Save the numbers divisible by 2 and 10 into a list."
   ]
  },
  {
   "cell_type": "code",
   "execution_count": 17,
   "metadata": {},
   "outputs": [
    {
     "name": "stdout",
     "output_type": "stream",
     "text": [
      "77 is not divisible by 2 and 10\n",
      "79 is not divisible by 2 and 10\n",
      "81 is not divisible by 2 and 10\n",
      "83 is not divisible by 2 and 10\n",
      "85 is not divisible by 2 and 10\n",
      "87 is not divisible by 2 and 10\n",
      "89 is not divisible by 2 and 10\n",
      "91 is not divisible by 2 and 10\n",
      "93 is not divisible by 2 and 10\n",
      "95 is not divisible by 2 and 10\n",
      "97 is not divisible by 2 and 10\n",
      "99 is not divisible by 2 and 10\n",
      "101 is not divisible by 2 and 10\n",
      "103 is not divisible by 2 and 10\n",
      "these are all numbers divisible by 2 and 10 [78, 80, 82, 84, 86, 88, 90, 92, 94, 96, 98, 100, 102]\n"
     ]
    }
   ],
   "source": [
    "# list\n",
    "divs = []\n",
    "\n",
    "# counter\n",
    "count = 77\n",
    "\n",
    "# while loop\n",
    "while count < 104:\n",
    "    if count%2 != 0 and count%10 != 0:\n",
    "        print(\"{} is not divisible by 2 and 10\".format(count))\n",
    "    else:\n",
    "        divs.append(count)\n",
    "    count += 1\n",
    "else:\n",
    "    print(\"these are all numbers divisible by 2 and 10\", divs)\n",
    "\n",
    "\n",
    "# print list\n"
   ]
  },
  {
   "cell_type": "markdown",
   "metadata": {},
   "source": [
    "5. Write a while loop that goes from 10 to 25. Print out every number, if a number is multiple of 9 break the loop, otherwise continue. "
   ]
  },
  {
   "cell_type": "code",
   "execution_count": 20,
   "metadata": {},
   "outputs": [
    {
     "name": "stdout",
     "output_type": "stream",
     "text": [
      "10\n",
      "11\n",
      "12\n",
      "13\n",
      "14\n",
      "15\n",
      "16\n",
      "17\n",
      "18\n"
     ]
    }
   ],
   "source": [
    "# counter\n",
    "counter = 10\n",
    "\n",
    "# while loop\n",
    "while counter <= 25:\n",
    "    print(counter)\n",
    "    if counter%9 == 0:\n",
    "        break\n",
    "    else:\n",
    "        counter +=1\n",
    "\n"
   ]
  },
  {
   "cell_type": "markdown",
   "metadata": {},
   "source": [
    "6. Use the list below. Write a while loop that prints out whether a number is inside the list or not. **Hint:** Use the min() max() buit-in method to find the min max value inside the list value of the list. E.g *min(list)*"
   ]
  },
  {
   "cell_type": "code",
   "execution_count": 51,
   "metadata": {},
   "outputs": [
    {
     "name": "stdout",
     "output_type": "stream",
     "text": [
      "generated random integer is 3412\n",
      "it was NOT found in the list\n",
      "generated random integer is 5154\n",
      "it was NOT found in the list\n",
      "generated random integer is 7817\n",
      "it was NOT found in the list\n",
      "generated random integer is 7676\n",
      "it was NOT found in the list\n",
      "generated random integer is 8057\n",
      "it was NOT found in the list\n",
      "generated random integer is 1466\n",
      "it was NOT found in the list\n",
      "generated random integer is 7756\n",
      "it was NOT found in the list\n",
      "generated random integer is 6648\n",
      "it was NOT found in the list\n",
      "generated random integer is 3266\n",
      "it was NOT found in the list\n",
      "generated random integer is 5952\n",
      "it was NOT found in the list\n",
      "generated random integer is 288\n",
      "it was NOT found in the list\n",
      "generated random integer is 8819\n",
      "it was NOT found in the list\n",
      "generated random integer is 7116\n",
      "it was NOT found in the list\n",
      "generated random integer is 3077\n",
      "it was NOT found in the list\n",
      "generated random integer is 8141\n",
      "it was NOT found in the list\n"
     ]
    }
   ],
   "source": [
    "import numpy as np\n",
    "\n",
    "# list\n",
    "#Where is the list?\n",
    "values = [4,78,34,65,675,34,678,234,156,2,3]\n",
    "\n",
    "# counter\n",
    "values = sorted(values)\n",
    "\n",
    "# while loop\n",
    "for iteration in range(15):\n",
    "    found = False\n",
    "    nr = np.random.randint(10000)\n",
    "    print(\"generated random integer is\", nr)\n",
    "    if (nr > min(values)) and (nr < max(values)):\n",
    "        for i in values:\n",
    "            if nr == i:\n",
    "                found = True\n",
    "                break\n",
    "    print(\"it was {} found in the list\".format('' if found else 'NOT'))\n",
    "\n",
    "    \n",
    "\n",
    "\n"
   ]
  },
  {
   "cell_type": "markdown",
   "metadata": {
    "collapsed": true
   },
   "source": [
    "# Nice Job! "
   ]
  },
  {
   "cell_type": "code",
   "execution_count": 47,
   "metadata": {},
   "outputs": [
    {
     "name": "stdout",
     "output_type": "stream",
     "text": [
      "2468\n"
     ]
    }
   ],
   "source": [
    "nr = np.random.randint(10000)\n",
    "print(nr)"
   ]
  },
  {
   "cell_type": "code",
   "execution_count": 56,
   "metadata": {},
   "outputs": [
    {
     "name": "stdout",
     "output_type": "stream",
     "text": [
      "396 was NOT found in the list\n",
      "950 was NOT found in the list\n",
      "207 was NOT found in the list\n",
      "286 was NOT found in the list\n",
      "809 was NOT found in the list\n",
      "507 was NOT found in the list\n",
      "327 was NOT found in the list\n",
      "993 was NOT found in the list\n",
      "399 was NOT found in the list\n",
      "291 was NOT found in the list\n",
      "849 was NOT found in the list\n",
      "957 was NOT found in the list\n",
      "68 was NOT found in the list\n",
      "283 was NOT found in the list\n",
      "759 was NOT found in the list\n"
     ]
    }
   ],
   "source": [
    "values = [4,78,34,65,675,34,678,234,156,2,3]\n",
    "for iteration in range(15): \n",
    "    nr = np.random.randint(1000)\n",
    "    print(\"{} was {} found in the list\".format(nr,'' if nr in values else 'NOT'))"
   ]
  },
  {
   "cell_type": "code",
   "execution_count": null,
   "metadata": {},
   "outputs": [],
   "source": []
  }
 ],
 "metadata": {
  "kernelspec": {
   "display_name": "Python 3",
   "language": "python",
   "name": "python3"
  },
  "language_info": {
   "codemirror_mode": {
    "name": "ipython",
    "version": 3
   },
   "file_extension": ".py",
   "mimetype": "text/x-python",
   "name": "python",
   "nbconvert_exporter": "python",
   "pygments_lexer": "ipython3",
   "version": "3.7.1"
  }
 },
 "nbformat": 4,
 "nbformat_minor": 1
}
